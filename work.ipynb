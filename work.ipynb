{
 "cells": [
  {
   "cell_type": "markdown",
   "id": "4eaddd7b",
   "metadata": {},
   "source": [
    "***I. IMPORT AND CLEAN DATASETS***"
   ]
  },
  {
   "cell_type": "markdown",
   "id": "8a14ebb1-5948-414e-a886-a73458e47d93",
   "metadata": {},
   "source": [
    "**IMPORT LIBRARIES**"
   ]
  },
  {
   "cell_type": "code",
   "execution_count": 2,
   "id": "35056486-f0ed-4b8a-8682-fb3925191160",
   "metadata": {},
   "outputs": [],
   "source": [
    "import pandas as pd\n",
    "import numpy as np"
   ]
  },
  {
   "cell_type": "markdown",
   "id": "bc6c8fd8",
   "metadata": {},
   "source": [
    "**LOAD AND INSPECT THE DATASETS**"
   ]
  },
  {
   "cell_type": "markdown",
   "id": "678b769c",
   "metadata": {},
   "source": [
    "First, we need to look at the results data stored in results.csv."
   ]
  },
  {
   "cell_type": "code",
   "execution_count": 3,
   "id": "9366eb94",
   "metadata": {},
   "outputs": [
    {
     "name": "stdout",
     "output_type": "stream",
     "text": [
      "<class 'pandas.core.frame.DataFrame'>\n",
      "RangeIndex: 47399 entries, 0 to 47398\n",
      "Data columns (total 9 columns):\n",
      " #   Column      Non-Null Count  Dtype \n",
      "---  ------      --------------  ----- \n",
      " 0   date        47399 non-null  object\n",
      " 1   home_team   47399 non-null  object\n",
      " 2   away_team   47399 non-null  object\n",
      " 3   home_score  47399 non-null  int64 \n",
      " 4   away_score  47399 non-null  int64 \n",
      " 5   tournament  47399 non-null  object\n",
      " 6   city        47399 non-null  object\n",
      " 7   country     47399 non-null  object\n",
      " 8   neutral     47399 non-null  bool  \n",
      "dtypes: bool(1), int64(2), object(6)\n",
      "memory usage: 2.9+ MB\n",
      "None\n"
     ]
    },
    {
     "data": {
      "text/html": [
       "<div>\n",
       "<style scoped>\n",
       "    .dataframe tbody tr th:only-of-type {\n",
       "        vertical-align: middle;\n",
       "    }\n",
       "\n",
       "    .dataframe tbody tr th {\n",
       "        vertical-align: top;\n",
       "    }\n",
       "\n",
       "    .dataframe thead th {\n",
       "        text-align: right;\n",
       "    }\n",
       "</style>\n",
       "<table border=\"1\" class=\"dataframe\">\n",
       "  <thead>\n",
       "    <tr style=\"text-align: right;\">\n",
       "      <th></th>\n",
       "      <th>date</th>\n",
       "      <th>home_team</th>\n",
       "      <th>away_team</th>\n",
       "      <th>home_score</th>\n",
       "      <th>away_score</th>\n",
       "      <th>tournament</th>\n",
       "      <th>city</th>\n",
       "      <th>country</th>\n",
       "      <th>neutral</th>\n",
       "    </tr>\n",
       "  </thead>\n",
       "  <tbody>\n",
       "    <tr>\n",
       "      <th>0</th>\n",
       "      <td>1872-11-30</td>\n",
       "      <td>Scotland</td>\n",
       "      <td>England</td>\n",
       "      <td>0</td>\n",
       "      <td>0</td>\n",
       "      <td>Friendly</td>\n",
       "      <td>Glasgow</td>\n",
       "      <td>Scotland</td>\n",
       "      <td>False</td>\n",
       "    </tr>\n",
       "    <tr>\n",
       "      <th>1</th>\n",
       "      <td>1873-03-08</td>\n",
       "      <td>England</td>\n",
       "      <td>Scotland</td>\n",
       "      <td>4</td>\n",
       "      <td>2</td>\n",
       "      <td>Friendly</td>\n",
       "      <td>London</td>\n",
       "      <td>England</td>\n",
       "      <td>False</td>\n",
       "    </tr>\n",
       "    <tr>\n",
       "      <th>2</th>\n",
       "      <td>1874-03-07</td>\n",
       "      <td>Scotland</td>\n",
       "      <td>England</td>\n",
       "      <td>2</td>\n",
       "      <td>1</td>\n",
       "      <td>Friendly</td>\n",
       "      <td>Glasgow</td>\n",
       "      <td>Scotland</td>\n",
       "      <td>False</td>\n",
       "    </tr>\n",
       "    <tr>\n",
       "      <th>3</th>\n",
       "      <td>1875-03-06</td>\n",
       "      <td>England</td>\n",
       "      <td>Scotland</td>\n",
       "      <td>2</td>\n",
       "      <td>2</td>\n",
       "      <td>Friendly</td>\n",
       "      <td>London</td>\n",
       "      <td>England</td>\n",
       "      <td>False</td>\n",
       "    </tr>\n",
       "    <tr>\n",
       "      <th>4</th>\n",
       "      <td>1876-03-04</td>\n",
       "      <td>Scotland</td>\n",
       "      <td>England</td>\n",
       "      <td>3</td>\n",
       "      <td>0</td>\n",
       "      <td>Friendly</td>\n",
       "      <td>Glasgow</td>\n",
       "      <td>Scotland</td>\n",
       "      <td>False</td>\n",
       "    </tr>\n",
       "  </tbody>\n",
       "</table>\n",
       "</div>"
      ],
      "text/plain": [
       "         date home_team away_team  home_score  away_score tournament     city  \\\n",
       "0  1872-11-30  Scotland   England           0           0   Friendly  Glasgow   \n",
       "1  1873-03-08   England  Scotland           4           2   Friendly   London   \n",
       "2  1874-03-07  Scotland   England           2           1   Friendly  Glasgow   \n",
       "3  1875-03-06   England  Scotland           2           2   Friendly   London   \n",
       "4  1876-03-04  Scotland   England           3           0   Friendly  Glasgow   \n",
       "\n",
       "    country  neutral  \n",
       "0  Scotland    False  \n",
       "1   England    False  \n",
       "2  Scotland    False  \n",
       "3   England    False  \n",
       "4  Scotland    False  "
      ]
     },
     "execution_count": 3,
     "metadata": {},
     "output_type": "execute_result"
    }
   ],
   "source": [
    "results = pd.read_csv('datasets/results.csv')\n",
    "print(results.info())\n",
    "results.head()"
   ]
  },
  {
   "cell_type": "markdown",
   "id": "d2ced260",
   "metadata": {},
   "source": [
    "Overview:\n",
    "- There are 47399 football games played globally in total.\n",
    "- Currently, there are no missing data in any column.\n",
    "- The column names are correct."
   ]
  },
  {
   "cell_type": "markdown",
   "id": "924aed6a",
   "metadata": {},
   "source": [
    "Let's load and inspect the goalscorers dataset."
   ]
  },
  {
   "cell_type": "code",
   "execution_count": 4,
   "id": "f58addd7",
   "metadata": {},
   "outputs": [
    {
     "name": "stdout",
     "output_type": "stream",
     "text": [
      "<class 'pandas.core.frame.DataFrame'>\n",
      "RangeIndex: 44362 entries, 0 to 44361\n",
      "Data columns (total 8 columns):\n",
      " #   Column     Non-Null Count  Dtype  \n",
      "---  ------     --------------  -----  \n",
      " 0   date       44362 non-null  object \n",
      " 1   home_team  44362 non-null  object \n",
      " 2   away_team  44362 non-null  object \n",
      " 3   team       44362 non-null  object \n",
      " 4   scorer     44313 non-null  object \n",
      " 5   minute     44103 non-null  float64\n",
      " 6   own_goal   44362 non-null  bool   \n",
      " 7   penalty    44362 non-null  bool   \n",
      "dtypes: bool(2), float64(1), object(5)\n",
      "memory usage: 2.1+ MB\n",
      "None\n"
     ]
    },
    {
     "data": {
      "text/html": [
       "<div>\n",
       "<style scoped>\n",
       "    .dataframe tbody tr th:only-of-type {\n",
       "        vertical-align: middle;\n",
       "    }\n",
       "\n",
       "    .dataframe tbody tr th {\n",
       "        vertical-align: top;\n",
       "    }\n",
       "\n",
       "    .dataframe thead th {\n",
       "        text-align: right;\n",
       "    }\n",
       "</style>\n",
       "<table border=\"1\" class=\"dataframe\">\n",
       "  <thead>\n",
       "    <tr style=\"text-align: right;\">\n",
       "      <th></th>\n",
       "      <th>date</th>\n",
       "      <th>home_team</th>\n",
       "      <th>away_team</th>\n",
       "      <th>team</th>\n",
       "      <th>scorer</th>\n",
       "      <th>minute</th>\n",
       "      <th>own_goal</th>\n",
       "      <th>penalty</th>\n",
       "    </tr>\n",
       "  </thead>\n",
       "  <tbody>\n",
       "    <tr>\n",
       "      <th>0</th>\n",
       "      <td>1916-07-02</td>\n",
       "      <td>Chile</td>\n",
       "      <td>Uruguay</td>\n",
       "      <td>Uruguay</td>\n",
       "      <td>José Piendibene</td>\n",
       "      <td>44.0</td>\n",
       "      <td>False</td>\n",
       "      <td>False</td>\n",
       "    </tr>\n",
       "    <tr>\n",
       "      <th>1</th>\n",
       "      <td>1916-07-02</td>\n",
       "      <td>Chile</td>\n",
       "      <td>Uruguay</td>\n",
       "      <td>Uruguay</td>\n",
       "      <td>Isabelino Gradín</td>\n",
       "      <td>55.0</td>\n",
       "      <td>False</td>\n",
       "      <td>False</td>\n",
       "    </tr>\n",
       "    <tr>\n",
       "      <th>2</th>\n",
       "      <td>1916-07-02</td>\n",
       "      <td>Chile</td>\n",
       "      <td>Uruguay</td>\n",
       "      <td>Uruguay</td>\n",
       "      <td>Isabelino Gradín</td>\n",
       "      <td>70.0</td>\n",
       "      <td>False</td>\n",
       "      <td>False</td>\n",
       "    </tr>\n",
       "    <tr>\n",
       "      <th>3</th>\n",
       "      <td>1916-07-02</td>\n",
       "      <td>Chile</td>\n",
       "      <td>Uruguay</td>\n",
       "      <td>Uruguay</td>\n",
       "      <td>José Piendibene</td>\n",
       "      <td>75.0</td>\n",
       "      <td>False</td>\n",
       "      <td>False</td>\n",
       "    </tr>\n",
       "    <tr>\n",
       "      <th>4</th>\n",
       "      <td>1916-07-06</td>\n",
       "      <td>Argentina</td>\n",
       "      <td>Chile</td>\n",
       "      <td>Argentina</td>\n",
       "      <td>Alberto Ohaco</td>\n",
       "      <td>2.0</td>\n",
       "      <td>False</td>\n",
       "      <td>False</td>\n",
       "    </tr>\n",
       "  </tbody>\n",
       "</table>\n",
       "</div>"
      ],
      "text/plain": [
       "         date  home_team away_team       team            scorer  minute  \\\n",
       "0  1916-07-02      Chile   Uruguay    Uruguay   José Piendibene    44.0   \n",
       "1  1916-07-02      Chile   Uruguay    Uruguay  Isabelino Gradín    55.0   \n",
       "2  1916-07-02      Chile   Uruguay    Uruguay  Isabelino Gradín    70.0   \n",
       "3  1916-07-02      Chile   Uruguay    Uruguay   José Piendibene    75.0   \n",
       "4  1916-07-06  Argentina     Chile  Argentina     Alberto Ohaco     2.0   \n",
       "\n",
       "   own_goal  penalty  \n",
       "0     False    False  \n",
       "1     False    False  \n",
       "2     False    False  \n",
       "3     False    False  \n",
       "4     False    False  "
      ]
     },
     "execution_count": 4,
     "metadata": {},
     "output_type": "execute_result"
    }
   ],
   "source": [
    "goalscorers = pd.read_csv('datasets/goalscorers.csv')\n",
    "print(goalscorers.info())\n",
    "goalscorers.head()"
   ]
  },
  {
   "cell_type": "markdown",
   "id": "4e5cb238",
   "metadata": {},
   "source": [
    "Some observations:\n",
    "- This dataset isn't quite clear, there are 44362 'goalscorers' in total, but there exists players who score a double, a hattrick, etc.\n",
    "- However, there aren't missing values in any column."
   ]
  },
  {
   "cell_type": "markdown",
   "id": "550116a8",
   "metadata": {},
   "source": [
    "For further analysis, we have another dataset, also specifying football games data. Let's have a look."
   ]
  },
  {
   "cell_type": "code",
   "execution_count": 5,
   "id": "22760bb1",
   "metadata": {},
   "outputs": [
    {
     "name": "stdout",
     "output_type": "stream",
     "text": [
      "<class 'pandas.core.frame.DataFrame'>\n",
      "RangeIndex: 644 entries, 0 to 643\n",
      "Data columns (total 5 columns):\n",
      " #   Column         Non-Null Count  Dtype \n",
      "---  ------         --------------  ----- \n",
      " 0   date           644 non-null    object\n",
      " 1   home_team      644 non-null    object\n",
      " 2   away_team      644 non-null    object\n",
      " 3   winner         644 non-null    object\n",
      " 4   first_shooter  230 non-null    object\n",
      "dtypes: object(5)\n",
      "memory usage: 25.3+ KB\n"
     ]
    },
    {
     "data": {
      "text/html": [
       "<div>\n",
       "<style scoped>\n",
       "    .dataframe tbody tr th:only-of-type {\n",
       "        vertical-align: middle;\n",
       "    }\n",
       "\n",
       "    .dataframe tbody tr th {\n",
       "        vertical-align: top;\n",
       "    }\n",
       "\n",
       "    .dataframe thead th {\n",
       "        text-align: right;\n",
       "    }\n",
       "</style>\n",
       "<table border=\"1\" class=\"dataframe\">\n",
       "  <thead>\n",
       "    <tr style=\"text-align: right;\">\n",
       "      <th></th>\n",
       "      <th>date</th>\n",
       "      <th>home_team</th>\n",
       "      <th>away_team</th>\n",
       "      <th>winner</th>\n",
       "      <th>first_shooter</th>\n",
       "    </tr>\n",
       "  </thead>\n",
       "  <tbody>\n",
       "    <tr>\n",
       "      <th>0</th>\n",
       "      <td>1967-08-22</td>\n",
       "      <td>India</td>\n",
       "      <td>Taiwan</td>\n",
       "      <td>Taiwan</td>\n",
       "      <td>NaN</td>\n",
       "    </tr>\n",
       "    <tr>\n",
       "      <th>1</th>\n",
       "      <td>1971-11-14</td>\n",
       "      <td>South Korea</td>\n",
       "      <td>Vietnam Republic</td>\n",
       "      <td>South Korea</td>\n",
       "      <td>NaN</td>\n",
       "    </tr>\n",
       "    <tr>\n",
       "      <th>2</th>\n",
       "      <td>1972-05-07</td>\n",
       "      <td>South Korea</td>\n",
       "      <td>Iraq</td>\n",
       "      <td>Iraq</td>\n",
       "      <td>NaN</td>\n",
       "    </tr>\n",
       "    <tr>\n",
       "      <th>3</th>\n",
       "      <td>1972-05-17</td>\n",
       "      <td>Thailand</td>\n",
       "      <td>South Korea</td>\n",
       "      <td>South Korea</td>\n",
       "      <td>NaN</td>\n",
       "    </tr>\n",
       "    <tr>\n",
       "      <th>4</th>\n",
       "      <td>1972-05-19</td>\n",
       "      <td>Thailand</td>\n",
       "      <td>Cambodia</td>\n",
       "      <td>Thailand</td>\n",
       "      <td>NaN</td>\n",
       "    </tr>\n",
       "  </tbody>\n",
       "</table>\n",
       "</div>"
      ],
      "text/plain": [
       "         date    home_team         away_team       winner first_shooter\n",
       "0  1967-08-22        India            Taiwan       Taiwan           NaN\n",
       "1  1971-11-14  South Korea  Vietnam Republic  South Korea           NaN\n",
       "2  1972-05-07  South Korea              Iraq         Iraq           NaN\n",
       "3  1972-05-17     Thailand       South Korea  South Korea           NaN\n",
       "4  1972-05-19     Thailand          Cambodia     Thailand           NaN"
      ]
     },
     "execution_count": 5,
     "metadata": {},
     "output_type": "execute_result"
    }
   ],
   "source": [
    "shootouts = pd.read_csv('datasets/shootouts.csv')\n",
    "shootouts.info()\n",
    "shootouts.head()"
   ]
  },
  {
   "cell_type": "markdown",
   "id": "8308da8b",
   "metadata": {},
   "source": [
    "For this dataset, some of the matches are far dated, so we should only take matches date from the 1990s and forward.\n",
    "\n"
   ]
  },
  {
   "cell_type": "markdown",
   "id": "80922b42",
   "metadata": {},
   "source": [
    "**CLEANING THE DATASETS**\n",
    "\n",
    "\n",
    "Let's first cleaning the 2 datasets: goalscorers.csv and results.csv."
   ]
  },
  {
   "cell_type": "code",
   "execution_count": 6,
   "id": "9e372e61",
   "metadata": {},
   "outputs": [
    {
     "data": {
      "text/html": [
       "<div>\n",
       "<style scoped>\n",
       "    .dataframe tbody tr th:only-of-type {\n",
       "        vertical-align: middle;\n",
       "    }\n",
       "\n",
       "    .dataframe tbody tr th {\n",
       "        vertical-align: top;\n",
       "    }\n",
       "\n",
       "    .dataframe thead th {\n",
       "        text-align: right;\n",
       "    }\n",
       "</style>\n",
       "<table border=\"1\" class=\"dataframe\">\n",
       "  <thead>\n",
       "    <tr style=\"text-align: right;\">\n",
       "      <th></th>\n",
       "      <th>date</th>\n",
       "      <th>home_team</th>\n",
       "      <th>away_team</th>\n",
       "      <th>home_score</th>\n",
       "      <th>away_score</th>\n",
       "      <th>tournament</th>\n",
       "      <th>city</th>\n",
       "      <th>country</th>\n",
       "      <th>neutral</th>\n",
       "      <th>team</th>\n",
       "      <th>scorer</th>\n",
       "      <th>minute</th>\n",
       "      <th>own_goal</th>\n",
       "      <th>penalty</th>\n",
       "    </tr>\n",
       "  </thead>\n",
       "  <tbody>\n",
       "    <tr>\n",
       "      <th>0</th>\n",
       "      <td>1916-07-02</td>\n",
       "      <td>Chile</td>\n",
       "      <td>Uruguay</td>\n",
       "      <td>0</td>\n",
       "      <td>4</td>\n",
       "      <td>Copa América</td>\n",
       "      <td>Buenos Aires</td>\n",
       "      <td>Argentina</td>\n",
       "      <td>True</td>\n",
       "      <td>Uruguay</td>\n",
       "      <td>José Piendibene</td>\n",
       "      <td>44.0</td>\n",
       "      <td>False</td>\n",
       "      <td>False</td>\n",
       "    </tr>\n",
       "    <tr>\n",
       "      <th>1</th>\n",
       "      <td>1916-07-02</td>\n",
       "      <td>Chile</td>\n",
       "      <td>Uruguay</td>\n",
       "      <td>0</td>\n",
       "      <td>4</td>\n",
       "      <td>Copa América</td>\n",
       "      <td>Buenos Aires</td>\n",
       "      <td>Argentina</td>\n",
       "      <td>True</td>\n",
       "      <td>Uruguay</td>\n",
       "      <td>Isabelino Gradín</td>\n",
       "      <td>55.0</td>\n",
       "      <td>False</td>\n",
       "      <td>False</td>\n",
       "    </tr>\n",
       "    <tr>\n",
       "      <th>2</th>\n",
       "      <td>1916-07-02</td>\n",
       "      <td>Chile</td>\n",
       "      <td>Uruguay</td>\n",
       "      <td>0</td>\n",
       "      <td>4</td>\n",
       "      <td>Copa América</td>\n",
       "      <td>Buenos Aires</td>\n",
       "      <td>Argentina</td>\n",
       "      <td>True</td>\n",
       "      <td>Uruguay</td>\n",
       "      <td>Isabelino Gradín</td>\n",
       "      <td>70.0</td>\n",
       "      <td>False</td>\n",
       "      <td>False</td>\n",
       "    </tr>\n",
       "    <tr>\n",
       "      <th>3</th>\n",
       "      <td>1916-07-02</td>\n",
       "      <td>Chile</td>\n",
       "      <td>Uruguay</td>\n",
       "      <td>0</td>\n",
       "      <td>4</td>\n",
       "      <td>Copa América</td>\n",
       "      <td>Buenos Aires</td>\n",
       "      <td>Argentina</td>\n",
       "      <td>True</td>\n",
       "      <td>Uruguay</td>\n",
       "      <td>José Piendibene</td>\n",
       "      <td>75.0</td>\n",
       "      <td>False</td>\n",
       "      <td>False</td>\n",
       "    </tr>\n",
       "    <tr>\n",
       "      <th>4</th>\n",
       "      <td>1916-07-06</td>\n",
       "      <td>Argentina</td>\n",
       "      <td>Chile</td>\n",
       "      <td>6</td>\n",
       "      <td>1</td>\n",
       "      <td>Copa América</td>\n",
       "      <td>Buenos Aires</td>\n",
       "      <td>Argentina</td>\n",
       "      <td>False</td>\n",
       "      <td>Argentina</td>\n",
       "      <td>Alberto Ohaco</td>\n",
       "      <td>2.0</td>\n",
       "      <td>False</td>\n",
       "      <td>False</td>\n",
       "    </tr>\n",
       "  </tbody>\n",
       "</table>\n",
       "</div>"
      ],
      "text/plain": [
       "         date  home_team away_team  home_score  away_score    tournament  \\\n",
       "0  1916-07-02      Chile   Uruguay           0           4  Copa América   \n",
       "1  1916-07-02      Chile   Uruguay           0           4  Copa América   \n",
       "2  1916-07-02      Chile   Uruguay           0           4  Copa América   \n",
       "3  1916-07-02      Chile   Uruguay           0           4  Copa América   \n",
       "4  1916-07-06  Argentina     Chile           6           1  Copa América   \n",
       "\n",
       "           city    country  neutral       team            scorer  minute  \\\n",
       "0  Buenos Aires  Argentina     True    Uruguay   José Piendibene    44.0   \n",
       "1  Buenos Aires  Argentina     True    Uruguay  Isabelino Gradín    55.0   \n",
       "2  Buenos Aires  Argentina     True    Uruguay  Isabelino Gradín    70.0   \n",
       "3  Buenos Aires  Argentina     True    Uruguay   José Piendibene    75.0   \n",
       "4  Buenos Aires  Argentina    False  Argentina     Alberto Ohaco     2.0   \n",
       "\n",
       "   own_goal  penalty  \n",
       "0     False    False  \n",
       "1     False    False  \n",
       "2     False    False  \n",
       "3     False    False  \n",
       "4     False    False  "
      ]
     },
     "execution_count": 6,
     "metadata": {},
     "output_type": "execute_result"
    }
   ],
   "source": [
    "matches = pd.merge(\n",
    "    left = results,\n",
    "    right = goalscorers,\n",
    "    left_on = ['date', 'home_team', 'away_team'],\n",
    "    right_on = ['date', 'home_team', 'away_team'],\n",
    "    how = 'inner'\n",
    ")\n",
    "matches.head()\n"
   ]
  },
  {
   "cell_type": "markdown",
   "id": "4a7cd0a0",
   "metadata": {},
   "source": [
    "We have a new dataset, including the matches' informations and also the scorers in those matches.\n",
    "\n",
    "Now, let's also merge the final dataset: goalscorers.csv to see which countries are winners."
   ]
  },
  {
   "cell_type": "code",
   "execution_count": 7,
   "id": "ae8f51c0",
   "metadata": {},
   "outputs": [
    {
     "name": "stdout",
     "output_type": "stream",
     "text": [
      "<class 'pandas.core.frame.DataFrame'>\n",
      "RangeIndex: 44362 entries, 0 to 44361\n",
      "Data columns (total 16 columns):\n",
      " #   Column         Non-Null Count  Dtype  \n",
      "---  ------         --------------  -----  \n",
      " 0   date           44362 non-null  object \n",
      " 1   home_team      44362 non-null  object \n",
      " 2   away_team      44362 non-null  object \n",
      " 3   home_score     44362 non-null  int64  \n",
      " 4   away_score     44362 non-null  int64  \n",
      " 5   tournament     44362 non-null  object \n",
      " 6   city           44362 non-null  object \n",
      " 7   country        44362 non-null  object \n",
      " 8   neutral        44362 non-null  bool   \n",
      " 9   team           44362 non-null  object \n",
      " 10  scorer         44313 non-null  object \n",
      " 11  minute         44103 non-null  float64\n",
      " 12  own_goal       44362 non-null  bool   \n",
      " 13  penalty        44362 non-null  bool   \n",
      " 14  winner         357 non-null    object \n",
      " 15  first_shooter  314 non-null    object \n",
      "dtypes: bool(3), float64(1), int64(2), object(10)\n",
      "memory usage: 4.5+ MB\n"
     ]
    }
   ],
   "source": [
    "matches_winners = pd.merge(\n",
    "    left = matches,\n",
    "    right = shootouts,\n",
    "    left_on = ['date', 'home_team', 'away_team'],\n",
    "    right_on = ['date', 'home_team', 'away_team'],\n",
    "    how = 'left'\n",
    ")\n",
    "\n",
    "def lastpreview(dataframe): #preview 5 last rows of dataframe\n",
    "    return dataframe.iloc[-5:]\n",
    "\n",
    "matches_winners.info()"
   ]
  },
  {
   "cell_type": "markdown",
   "id": "bd1fd257",
   "metadata": {},
   "source": [
    "***II. VISUALIZING AND ANALYZING***"
   ]
  },
  {
   "cell_type": "markdown",
   "id": "e2345209",
   "metadata": {},
   "source": [
    "As we can see, the dataset is now good enough for analyzing, except that it has several null objects - notably in the goalscorers column. We should left this column behind, as it does not affect our work below.\n",
    "\n",
    "For analysis, we need to answer 3 questions:\n",
    "- Do neutral stadiums affect scores' rate?\n",
    "- What are the rate of own goals compared to scored goals in each tournament?\n",
    "- Do neutral stadiums, in any way, affect the ratio of own goals?\n",
    "\n",
    "For the first question, we need to first look at the sum of the total of home goals and away goals, played in neutral stadiums (not a stadium of any team in match)."
   ]
  },
  {
   "cell_type": "code",
   "execution_count": 8,
   "id": "0d870c12",
   "metadata": {},
   "outputs": [
    {
     "data": {
      "text/plain": [
       "49898"
      ]
     },
     "execution_count": 8,
     "metadata": {},
     "output_type": "execute_result"
    }
   ],
   "source": [
    "is_neutral = matches_winners['neutral'] == True\n",
    "sum_of_goals_neutral = np.abs(matches_winners[is_neutral]['home_score'].sum() + matches_winners[is_neutral]['away_score'].sum())\n",
    "sum_of_goals_neutral"
   ]
  },
  {
   "cell_type": "markdown",
   "id": "9fa0a0be",
   "metadata": {},
   "source": [
    "At the same time, we also want to check how many matches are played in a neutral stadium:"
   ]
  },
  {
   "cell_type": "code",
   "execution_count": 9,
   "id": "5f41faad",
   "metadata": {},
   "outputs": [
    {
     "data": {
      "text/plain": [
       "11571"
      ]
     },
     "execution_count": 9,
     "metadata": {},
     "output_type": "execute_result"
    }
   ],
   "source": [
    "neutral_match = matches_winners[is_neutral]['date'].count()\n",
    "neutral_match"
   ]
  },
  {
   "cell_type": "markdown",
   "id": "40f314ba",
   "metadata": {},
   "source": [
    "We can now calculate the ratio of goals per match played in a neutral bowl."
   ]
  },
  {
   "cell_type": "code",
   "execution_count": 10,
   "id": "66cb7df6",
   "metadata": {},
   "outputs": [
    {
     "data": {
      "text/plain": [
       "4.312332555526748"
      ]
     },
     "execution_count": 10,
     "metadata": {},
     "output_type": "execute_result"
    }
   ],
   "source": [
    "rt_neutral = (sum_of_goals_neutral / neutral_match)\n",
    "rt_neutral"
   ]
  },
  {
   "cell_type": "markdown",
   "id": "b800bc64",
   "metadata": {},
   "source": [
    "Compare to matches played in a non-neutral stadium:"
   ]
  },
  {
   "cell_type": "code",
   "execution_count": 11,
   "id": "c10d3259",
   "metadata": {},
   "outputs": [
    {
     "data": {
      "text/plain": [
       "4.166722576316673"
      ]
     },
     "execution_count": 11,
     "metadata": {},
     "output_type": "execute_result"
    }
   ],
   "source": [
    "sum_of_goals_non_neutral = np.abs(matches_winners[~is_neutral]['home_score'].sum() + matches_winners[~is_neutral]['away_score'].sum())\n",
    "normal_match = matches_winners[~is_neutral]['date'].count()\n",
    "rt_non_neutral = sum_of_goals_non_neutral / normal_match\n",
    "rt_non_neutral"
   ]
  },
  {
   "cell_type": "markdown",
   "id": "0cf4178e",
   "metadata": {},
   "source": [
    "As we can compare above, matches that are played in a third stadium is seemed to rise the number of goals scored, with a rate of 4.3 goals per match, while matches in normal stadiums the rate slightly decreases to 4.1 goals per match. \n",
    "\n",
    "Moving on to the second question, we first have to group the database by tournaments."
   ]
  },
  {
   "cell_type": "code",
   "execution_count": 20,
   "id": "25ea4057",
   "metadata": {},
   "outputs": [
    {
     "data": {
      "text/html": [
       "<div>\n",
       "<style scoped>\n",
       "    .dataframe tbody tr th:only-of-type {\n",
       "        vertical-align: middle;\n",
       "    }\n",
       "\n",
       "    .dataframe tbody tr th {\n",
       "        vertical-align: top;\n",
       "    }\n",
       "\n",
       "    .dataframe thead th {\n",
       "        text-align: right;\n",
       "    }\n",
       "</style>\n",
       "<table border=\"1\" class=\"dataframe\">\n",
       "  <thead>\n",
       "    <tr style=\"text-align: right;\">\n",
       "      <th></th>\n",
       "      <th>total_goals</th>\n",
       "      <th>own_goal</th>\n",
       "    </tr>\n",
       "    <tr>\n",
       "      <th>tournament</th>\n",
       "      <th></th>\n",
       "      <th></th>\n",
       "    </tr>\n",
       "  </thead>\n",
       "  <tbody>\n",
       "    <tr>\n",
       "      <th>ABCS Tournament</th>\n",
       "      <td>3.700000</td>\n",
       "      <td>0.0</td>\n",
       "    </tr>\n",
       "    <tr>\n",
       "      <th>AFC Asian Cup</th>\n",
       "      <td>2.657957</td>\n",
       "      <td>0.02973</td>\n",
       "    </tr>\n",
       "    <tr>\n",
       "      <th>AFC Asian Cup qualification</th>\n",
       "      <td>3.319372</td>\n",
       "      <td>0.012431</td>\n",
       "    </tr>\n",
       "    <tr>\n",
       "      <th>AFC Challenge Cup</th>\n",
       "      <td>2.660000</td>\n",
       "      <td>0.03</td>\n",
       "    </tr>\n",
       "    <tr>\n",
       "      <th>AFC Challenge Cup qualification</th>\n",
       "      <td>3.043478</td>\n",
       "      <td>0.021739</td>\n",
       "    </tr>\n",
       "    <tr>\n",
       "      <th>AFF Championship</th>\n",
       "      <td>3.422680</td>\n",
       "      <td>0.008368</td>\n",
       "    </tr>\n",
       "    <tr>\n",
       "      <th>AFF Championship qualification</th>\n",
       "      <td>3.516129</td>\n",
       "      <td>0.016667</td>\n",
       "    </tr>\n",
       "    <tr>\n",
       "      <th>Africa Cup of Nations qualification</th>\n",
       "      <td>2.666667</td>\n",
       "      <td>0.016667</td>\n",
       "    </tr>\n",
       "    <tr>\n",
       "      <th>African Cup of Nations</th>\n",
       "      <td>2.378310</td>\n",
       "      <td>0.020319</td>\n",
       "    </tr>\n",
       "    <tr>\n",
       "      <th>African Cup of Nations qualification</th>\n",
       "      <td>2.424200</td>\n",
       "      <td>0.020263</td>\n",
       "    </tr>\n",
       "  </tbody>\n",
       "</table>\n",
       "</div>"
      ],
      "text/plain": [
       "                                      total_goals  own_goal\n",
       "tournament                                                 \n",
       "ABCS Tournament                          3.700000       0.0\n",
       "AFC Asian Cup                            2.657957   0.02973\n",
       "AFC Asian Cup qualification              3.319372  0.012431\n",
       "AFC Challenge Cup                        2.660000      0.03\n",
       "AFC Challenge Cup qualification          3.043478  0.021739\n",
       "AFF Championship                         3.422680  0.008368\n",
       "AFF Championship qualification           3.516129  0.016667\n",
       "Africa Cup of Nations qualification      2.666667  0.016667\n",
       "African Cup of Nations                   2.378310  0.020319\n",
       "African Cup of Nations qualification     2.424200  0.020263"
      ]
     },
     "execution_count": 20,
     "metadata": {},
     "output_type": "execute_result"
    }
   ],
   "source": [
    "results = pd.read_csv('datasets/results.csv')\n",
    "extracted_column = goalscorers['own_goal']\n",
    "results.insert(9, 'own_goal', extracted_column)\n",
    "results['total_goals'] = results['home_score'] + results['away_score']\n",
    "comparison = results.groupby('tournament').agg({'total_goals':'mean', 'own_goal':'mean'})\n",
    "comparison.head(n=10)\n"
   ]
  },
  {
   "cell_type": "markdown",
   "id": "dfbd4e37",
   "metadata": {},
   "source": [
    "It is clear that most of the tournaments have the rate of own goals lower than those of scored ones. "
   ]
  },
  {
   "cell_type": "markdown",
   "id": "e3aa7937",
   "metadata": {},
   "source": [
    "Finally, let's add a new column 'neutral_count' to the dataset below and compare the ratio of own goals, by filtering from highest to lowest."
   ]
  },
  {
   "cell_type": "code",
   "execution_count": 19,
   "id": "8ff8e2d2",
   "metadata": {},
   "outputs": [
    {
     "data": {
      "text/html": [
       "<div>\n",
       "<style scoped>\n",
       "    .dataframe tbody tr th:only-of-type {\n",
       "        vertical-align: middle;\n",
       "    }\n",
       "\n",
       "    .dataframe tbody tr th {\n",
       "        vertical-align: top;\n",
       "    }\n",
       "\n",
       "    .dataframe thead th {\n",
       "        text-align: right;\n",
       "    }\n",
       "</style>\n",
       "<table border=\"1\" class=\"dataframe\">\n",
       "  <thead>\n",
       "    <tr style=\"text-align: right;\">\n",
       "      <th></th>\n",
       "      <th>total_goals</th>\n",
       "      <th>own_goal</th>\n",
       "      <th>neutral</th>\n",
       "    </tr>\n",
       "    <tr>\n",
       "      <th>tournament</th>\n",
       "      <th></th>\n",
       "      <th></th>\n",
       "      <th></th>\n",
       "    </tr>\n",
       "  </thead>\n",
       "  <tbody>\n",
       "    <tr>\n",
       "      <th>AFC Challenge Cup</th>\n",
       "      <td>2.660000</td>\n",
       "      <td>0.03</td>\n",
       "      <td>0.800000</td>\n",
       "    </tr>\n",
       "    <tr>\n",
       "      <th>AFC Asian Cup</th>\n",
       "      <td>2.657957</td>\n",
       "      <td>0.02973</td>\n",
       "      <td>0.783848</td>\n",
       "    </tr>\n",
       "    <tr>\n",
       "      <th>AFC Challenge Cup qualification</th>\n",
       "      <td>3.043478</td>\n",
       "      <td>0.021739</td>\n",
       "      <td>0.478261</td>\n",
       "    </tr>\n",
       "    <tr>\n",
       "      <th>African Cup of Nations</th>\n",
       "      <td>2.378310</td>\n",
       "      <td>0.020319</td>\n",
       "      <td>0.799496</td>\n",
       "    </tr>\n",
       "    <tr>\n",
       "      <th>African Cup of Nations qualification</th>\n",
       "      <td>2.424200</td>\n",
       "      <td>0.020263</td>\n",
       "      <td>0.043785</td>\n",
       "    </tr>\n",
       "    <tr>\n",
       "      <th>AFF Championship qualification</th>\n",
       "      <td>3.516129</td>\n",
       "      <td>0.016667</td>\n",
       "      <td>0.548387</td>\n",
       "    </tr>\n",
       "    <tr>\n",
       "      <th>Africa Cup of Nations qualification</th>\n",
       "      <td>2.666667</td>\n",
       "      <td>0.016667</td>\n",
       "      <td>0.016667</td>\n",
       "    </tr>\n",
       "    <tr>\n",
       "      <th>AFC Asian Cup qualification</th>\n",
       "      <td>3.319372</td>\n",
       "      <td>0.012431</td>\n",
       "      <td>0.344241</td>\n",
       "    </tr>\n",
       "    <tr>\n",
       "      <th>AFF Championship</th>\n",
       "      <td>3.422680</td>\n",
       "      <td>0.008368</td>\n",
       "      <td>0.446735</td>\n",
       "    </tr>\n",
       "    <tr>\n",
       "      <th>ABCS Tournament</th>\n",
       "      <td>3.700000</td>\n",
       "      <td>0.0</td>\n",
       "      <td>0.500000</td>\n",
       "    </tr>\n",
       "  </tbody>\n",
       "</table>\n",
       "</div>"
      ],
      "text/plain": [
       "                                      total_goals  own_goal   neutral\n",
       "tournament                                                           \n",
       "AFC Challenge Cup                        2.660000      0.03  0.800000\n",
       "AFC Asian Cup                            2.657957   0.02973  0.783848\n",
       "AFC Challenge Cup qualification          3.043478  0.021739  0.478261\n",
       "African Cup of Nations                   2.378310  0.020319  0.799496\n",
       "African Cup of Nations qualification     2.424200  0.020263  0.043785\n",
       "AFF Championship qualification           3.516129  0.016667  0.548387\n",
       "Africa Cup of Nations qualification      2.666667  0.016667  0.016667\n",
       "AFC Asian Cup qualification              3.319372  0.012431  0.344241\n",
       "AFF Championship                         3.422680  0.008368  0.446735\n",
       "ABCS Tournament                          3.700000       0.0  0.500000"
      ]
     },
     "execution_count": 19,
     "metadata": {},
     "output_type": "execute_result"
    }
   ],
   "source": [
    "#re-import the dataset\n",
    "results = pd.read_csv('datasets/results.csv')\n",
    "extracted_column = goalscorers['own_goal']\n",
    "results.insert(9, 'own_goal', extracted_column)\n",
    "results['total_goals'] = results['home_score'] + results['away_score']\n",
    "comparison = results.groupby('tournament').agg({'total_goals':'mean', 'own_goal':'mean', 'neutral':'mean'})\n",
    "\n",
    "#adding a new column\n",
    "comparison.head(n=10).sort_values(by='own_goal', ascending=False)"
   ]
  },
  {
   "cell_type": "markdown",
   "id": "fbd74355",
   "metadata": {},
   "source": [
    "It can be marked that except for some tournaments (Bolivarian Games, ...), the ratio of neutral matchs seems not to affect the rate of own goals per match."
   ]
  }
 ],
 "metadata": {
  "kernelspec": {
   "display_name": "Python 3 (ipykernel)",
   "language": "python",
   "name": "python3"
  },
  "language_info": {
   "codemirror_mode": {
    "name": "ipython",
    "version": 3
   },
   "file_extension": ".py",
   "mimetype": "text/x-python",
   "name": "python",
   "nbconvert_exporter": "python",
   "pygments_lexer": "ipython3",
   "version": "3.12.0"
  }
 },
 "nbformat": 4,
 "nbformat_minor": 5
}
