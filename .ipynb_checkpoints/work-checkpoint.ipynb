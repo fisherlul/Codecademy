{
 "cells": [
  {
   "cell_type": "code",
   "execution_count": 19,
   "id": "8a14ebb1-5948-414e-a886-a73458e47d93",
   "metadata": {},
   "outputs": [],
   "source": [
    "###IMPORT LIBRARIES###"
   ]
  },
  {
   "cell_type": "code",
   "execution_count": null,
   "id": "35056486-f0ed-4b8a-8682-fb3925191160",
   "metadata": {},
   "outputs": [],
   "source": []
  }
 ],
 "metadata": {
  "kernelspec": {
   "display_name": "Python 3 (ipykernel)",
   "language": "python",
   "name": "python3"
  },
  "language_info": {
   "codemirror_mode": {
    "name": "ipython",
    "version": 3
   },
   "file_extension": ".py",
   "mimetype": "text/x-python",
   "name": "python",
   "nbconvert_exporter": "python",
   "pygments_lexer": "ipython3",
   "version": "3.12.4"
  }
 },
 "nbformat": 4,
 "nbformat_minor": 5
}
